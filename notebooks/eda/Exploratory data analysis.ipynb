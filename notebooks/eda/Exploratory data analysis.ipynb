{
 "cells": [
  {
   "cell_type": "code",
   "execution_count": 1,
   "metadata": {},
   "outputs": [
    {
     "data": {
      "text/plain": [
       "PosixPath('/home/benjamin/Documents/playground/Python/emergency_service_unit_response_oracle/notebooks/eda')"
      ]
     },
     "execution_count": 1,
     "metadata": {},
     "output_type": "execute_result"
    }
   ],
   "source": [
    "import pathlib\n",
    "pathlib.Path().absolute()"
   ]
  },
  {
   "cell_type": "code",
   "execution_count": 9,
   "metadata": {},
   "outputs": [
    {
     "data": {
      "text/plain": [
       "PosixPath('/home/benjamin/Documents/playground/Python/emergency_service_unit_response_oracle/notebooks/eda')"
      ]
     },
     "execution_count": 9,
     "metadata": {},
     "output_type": "execute_result"
    }
   ],
   "source": [
    "import pathlib\n",
    "pathlib.Path('__file__').parent.absolute()"
   ]
  },
  {
   "cell_type": "code",
   "execution_count": 19,
   "metadata": {},
   "outputs": [
    {
     "name": "stdout",
     "output_type": "stream",
     "text": [
      "/home/benjamin/Documents/playground/Python/emergency_service_unit_response_oracle\n",
      "/home/benjamin/Documents/playground/Python/emergency_service_unit_response_oracle/notebooks/eda\n",
      "/home/benjamin/Documents/playground/Python/emergency_service_unit_response_oracle/notebooks/eda\n"
     ]
    }
   ],
   "source": [
    "print(pathlib.Path().resolve().parent.parent) # \n",
    "print(pathlib.Path().parent.parent.absolute())\n",
    "print(pathlib.Path().absolute())"
   ]
  },
  {
   "cell_type": "code",
   "execution_count": 8,
   "metadata": {},
   "outputs": [
    {
     "name": "stdout",
     "output_type": "stream",
     "text": [
      "/home/benjamin/Documents/playground/Python/emergency_service_unit_response_oracle/notebooks/eda\n",
      "/home/benjamin/Documents/playground/Python/emergency_service_unit_response_oracle/env/lib/python3.6/site-packages/ipykernel_launcher.py\n",
      "/home/benjamin/Documents/playground/Python/emergency_service_unit_response_oracle/notebooks/eda\n"
     ]
    }
   ],
   "source": [
    "import sys\n",
    "print(os.getcwd())\n",
    "print(sys.argv[0])\n",
    "print(os.path.dirname(os.path.realpath('__file__')))"
   ]
  },
  {
   "cell_type": "code",
   "execution_count": 20,
   "metadata": {},
   "outputs": [],
   "source": [
    "DATA = pathlib.Path().resolve().parent.parent / \"data\""
   ]
  },
  {
   "cell_type": "code",
   "execution_count": 21,
   "metadata": {},
   "outputs": [
    {
     "name": "stdout",
     "output_type": "stream",
     "text": [
      "/home/benjamin/Documents/playground/Python/emergency_service_unit_response_oracle/data\n"
     ]
    }
   ],
   "source": [
    "print(DATA)"
   ]
  },
  {
   "cell_type": "code",
   "execution_count": null,
   "metadata": {},
   "outputs": [],
   "source": [
    "ROOT = pathlib.Path().resolve().parent.parent \n",
    "DATA = ROOT / \"data/row\""
   ]
  }
 ],
 "metadata": {
  "kernelspec": {
   "display_name": "Python 3",
   "language": "python",
   "name": "python3"
  },
  "language_info": {
   "codemirror_mode": {
    "name": "ipython",
    "version": 3
   },
   "file_extension": ".py",
   "mimetype": "text/x-python",
   "name": "python",
   "nbconvert_exporter": "python",
   "pygments_lexer": "ipython3",
   "version": "3.6.8"
  }
 },
 "nbformat": 4,
 "nbformat_minor": 4
}
