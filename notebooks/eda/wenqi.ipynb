{
 "cells": [
  {
   "cell_type": "code",
   "execution_count": 3,
   "metadata": {},
   "outputs": [
    {
     "name": "stderr",
     "output_type": "stream",
     "text": [
      "\u001b[32m[I 2020-04-09 14:18:55,319]\u001b[0m Finished trial#0 with value: 17.38634638090645 with parameters: {'x': -2.1696937994181837}. Best is trial#0 with value: 17.38634638090645.\u001b[0m\n",
      "\u001b[32m[I 2020-04-09 14:18:55,353]\u001b[0m Finished trial#1 with value: 40.44416967870305 with parameters: {'x': -4.359573073619254}. Best is trial#0 with value: 17.38634638090645.\u001b[0m\n",
      "\u001b[32m[I 2020-04-09 14:18:55,391]\u001b[0m Finished trial#2 with value: 81.7890017199418 with parameters: {'x': -7.043727202870606}. Best is trial#0 with value: 17.38634638090645.\u001b[0m\n",
      "\u001b[32m[I 2020-04-09 14:18:55,424]\u001b[0m Finished trial#3 with value: 16.433669493447912 with parameters: {'x': 6.053846259226898}. Best is trial#3 with value: 16.433669493447912.\u001b[0m\n",
      "\u001b[32m[I 2020-04-09 14:18:55,458]\u001b[0m Finished trial#4 with value: 18.879106521977178 with parameters: {'x': -2.3450093811149797}. Best is trial#3 with value: 16.433669493447912.\u001b[0m\n",
      "\u001b[32m[I 2020-04-09 14:18:55,494]\u001b[0m Finished trial#5 with value: 19.96664335814869 with parameters: {'x': 6.46840501277007}. Best is trial#3 with value: 16.433669493447912.\u001b[0m\n",
      "\u001b[32m[I 2020-04-09 14:18:55,531]\u001b[0m Finished trial#6 with value: 13.861560580101242 with parameters: {'x': -1.7231116797782526}. Best is trial#6 with value: 13.861560580101242.\u001b[0m\n",
      "\u001b[32m[I 2020-04-09 14:18:55,569]\u001b[0m Finished trial#7 with value: 26.507275897672297 with parameters: {'x': 7.148521719646553}. Best is trial#6 with value: 13.861560580101242.\u001b[0m\n",
      "\u001b[32m[I 2020-04-09 14:18:55,606]\u001b[0m Finished trial#8 with value: 109.40598902694352 with parameters: {'x': -8.459731785612073}. Best is trial#6 with value: 13.861560580101242.\u001b[0m\n",
      "\u001b[32m[I 2020-04-09 14:18:55,643]\u001b[0m Finished trial#9 with value: 63.15364200635778 with parameters: {'x': -5.946926576127263}. Best is trial#6 with value: 13.861560580101242.\u001b[0m\n",
      "\u001b[32m[I 2020-04-09 14:18:55,687]\u001b[0m Finished trial#10 with value: 0.1559062093590506 with parameters: {'x': 2.3948496034682707}. Best is trial#10 with value: 0.1559062093590506.\u001b[0m\n",
      "\u001b[32m[I 2020-04-09 14:18:55,729]\u001b[0m Finished trial#11 with value: 0.2502031858492677 with parameters: {'x': 2.5002031445815467}. Best is trial#10 with value: 0.1559062093590506.\u001b[0m\n",
      "\u001b[32m[I 2020-04-09 14:18:55,772]\u001b[0m Finished trial#12 with value: 0.10035916397230188 with parameters: {'x': 2.316795145121105}. Best is trial#12 with value: 0.10035916397230188.\u001b[0m\n",
      "\u001b[32m[I 2020-04-09 14:18:55,818]\u001b[0m Finished trial#13 with value: 0.04965304234178958 with parameters: {'x': 2.222829626265875}. Best is trial#13 with value: 0.04965304234178958.\u001b[0m\n",
      "\u001b[32m[I 2020-04-09 14:18:55,859]\u001b[0m Finished trial#14 with value: 0.3804730515030682 with parameters: {'x': 2.6168249763936835}. Best is trial#13 with value: 0.04965304234178958.\u001b[0m\n",
      "\u001b[32m[I 2020-04-09 14:18:55,899]\u001b[0m Finished trial#15 with value: 0.9113542881072288 with parameters: {'x': 1.0453512226440402}. Best is trial#13 with value: 0.04965304234178958.\u001b[0m\n",
      "\u001b[32m[I 2020-04-09 14:18:55,942]\u001b[0m Finished trial#16 with value: 61.98367716523454 with parameters: {'x': 9.872971304738417}. Best is trial#13 with value: 0.04965304234178958.\u001b[0m\n",
      "\u001b[32m[I 2020-04-09 14:18:55,985]\u001b[0m Finished trial#17 with value: 6.185683448561312 with parameters: {'x': 4.487103425384902}. Best is trial#13 with value: 0.04965304234178958.\u001b[0m\n",
      "\u001b[32m[I 2020-04-09 14:18:56,027]\u001b[0m Finished trial#18 with value: 5.440832134356634 with parameters: {'x': -0.33255913844786233}. Best is trial#13 with value: 0.04965304234178958.\u001b[0m\n",
      "\u001b[32m[I 2020-04-09 14:18:56,069]\u001b[0m Finished trial#19 with value: 6.982169614686718 with parameters: {'x': 4.6423795364570015}. Best is trial#13 with value: 0.04965304234178958.\u001b[0m\n",
      "\u001b[32m[I 2020-04-09 14:18:56,111]\u001b[0m Finished trial#20 with value: 53.9083494935362 with parameters: {'x': 9.34223055300882}. Best is trial#13 with value: 0.04965304234178958.\u001b[0m\n",
      "\u001b[32m[I 2020-04-09 14:18:56,153]\u001b[0m Finished trial#21 with value: 0.001263142244925995 with parameters: {'x': 2.035540712498851}. Best is trial#21 with value: 0.001263142244925995.\u001b[0m\n",
      "\u001b[32m[I 2020-04-09 14:18:56,196]\u001b[0m Finished trial#22 with value: 0.8737885728291922 with parameters: {'x': 1.0652334126482739}. Best is trial#21 with value: 0.001263142244925995.\u001b[0m\n",
      "\u001b[32m[I 2020-04-09 14:18:56,237]\u001b[0m Finished trial#23 with value: 4.232905517279685 with parameters: {'x': 4.057402614288143}. Best is trial#21 with value: 0.001263142244925995.\u001b[0m\n",
      "\u001b[32m[I 2020-04-09 14:18:56,279]\u001b[0m Finished trial#24 with value: 4.131258203895465 with parameters: {'x': -0.03254968054792329}. Best is trial#21 with value: 0.001263142244925995.\u001b[0m\n",
      "\u001b[32m[I 2020-04-09 14:18:56,323]\u001b[0m Finished trial#25 with value: 37.44895532026908 with parameters: {'x': 8.119555157057503}. Best is trial#21 with value: 0.001263142244925995.\u001b[0m\n",
      "\u001b[32m[I 2020-04-09 14:18:56,364]\u001b[0m Finished trial#26 with value: 2.4443084081989412 with parameters: {'x': 3.563428414798369}. Best is trial#21 with value: 0.001263142244925995.\u001b[0m\n",
      "\u001b[32m[I 2020-04-09 14:18:56,410]\u001b[0m Finished trial#27 with value: 0.3624237848031028 with parameters: {'x': 1.397983567663554}. Best is trial#21 with value: 0.001263142244925995.\u001b[0m\n",
      "\u001b[32m[I 2020-04-09 14:18:56,458]\u001b[0m Finished trial#28 with value: 8.628802450487129 with parameters: {'x': -0.9374823319446755}. Best is trial#21 with value: 0.001263142244925995.\u001b[0m\n",
      "\u001b[32m[I 2020-04-09 14:18:56,504]\u001b[0m Finished trial#29 with value: 9.451534825110471 with parameters: {'x': 5.074334858975266}. Best is trial#21 with value: 0.001263142244925995.\u001b[0m\n",
      "\u001b[32m[I 2020-04-09 14:18:56,549]\u001b[0m Finished trial#30 with value: 19.640623314038137 with parameters: {'x': -2.4317742850959974}. Best is trial#21 with value: 0.001263142244925995.\u001b[0m\n",
      "\u001b[32m[I 2020-04-09 14:18:56,592]\u001b[0m Finished trial#31 with value: 0.06966144292248493 with parameters: {'x': 2.2639345428747153}. Best is trial#21 with value: 0.001263142244925995.\u001b[0m\n",
      "\u001b[32m[I 2020-04-09 14:18:56,638]\u001b[0m Finished trial#32 with value: 1.25245004216054 with parameters: {'x': 3.119129144540763}. Best is trial#21 with value: 0.001263142244925995.\u001b[0m\n",
      "\u001b[32m[I 2020-04-09 14:18:56,691]\u001b[0m Finished trial#33 with value: 0.18786534679627445 with parameters: {'x': 1.5665656372687158}. Best is trial#21 with value: 0.001263142244925995.\u001b[0m\n",
      "\u001b[32m[I 2020-04-09 14:18:56,743]\u001b[0m Finished trial#34 with value: 12.658752840507981 with parameters: {'x': 5.557914113705948}. Best is trial#21 with value: 0.001263142244925995.\u001b[0m\n",
      "\u001b[32m[I 2020-04-09 14:18:56,795]\u001b[0m Finished trial#35 with value: 2.0107151007156556 with parameters: {'x': 0.5820031379739743}. Best is trial#21 with value: 0.001263142244925995.\u001b[0m\n",
      "\u001b[32m[I 2020-04-09 14:18:56,854]\u001b[0m Finished trial#36 with value: 36.83785860856221 with parameters: {'x': -4.06941995651662}. Best is trial#21 with value: 0.001263142244925995.\u001b[0m\n",
      "\u001b[32m[I 2020-04-09 14:18:56,896]\u001b[0m Finished trial#37 with value: 0.04873292944803271 with parameters: {'x': 2.220755361085598}. Best is trial#21 with value: 0.001263142244925995.\u001b[0m\n",
      "\u001b[32m[I 2020-04-09 14:18:56,940]\u001b[0m Finished trial#38 with value: 9.670494708465199 with parameters: {'x': -1.1097419038346574}. Best is trial#21 with value: 0.001263142244925995.\u001b[0m\n",
      "\u001b[32m[I 2020-04-09 14:18:56,989]\u001b[0m Finished trial#39 with value: 23.744715775170093 with parameters: {'x': 6.872854992216585}. Best is trial#21 with value: 0.001263142244925995.\u001b[0m\n",
      "\u001b[32m[I 2020-04-09 14:18:57,037]\u001b[0m Finished trial#40 with value: 27.546291623953746 with parameters: {'x': -3.2484561181316685}. Best is trial#21 with value: 0.001263142244925995.\u001b[0m\n",
      "\u001b[32m[I 2020-04-09 14:18:57,087]\u001b[0m Finished trial#41 with value: 0.001348193961224705 with parameters: {'x': 2.0367177608416513}. Best is trial#21 with value: 0.001263142244925995.\u001b[0m\n",
      "\u001b[32m[I 2020-04-09 14:18:57,136]\u001b[0m Finished trial#42 with value: 0.03510651006128219 with parameters: {'x': 1.8126326867853355}. Best is trial#21 with value: 0.001263142244925995.\u001b[0m\n",
      "\u001b[32m[I 2020-04-09 14:18:57,184]\u001b[0m Finished trial#43 with value: 2.072330496025702 with parameters: {'x': 3.439559132521378}. Best is trial#21 with value: 0.001263142244925995.\u001b[0m\n",
      "\u001b[32m[I 2020-04-09 14:18:57,228]\u001b[0m Finished trial#44 with value: 3.452288518108726 with parameters: {'x': 0.14196649166148623}. Best is trial#21 with value: 0.001263142244925995.\u001b[0m\n"
     ]
    },
    {
     "name": "stderr",
     "output_type": "stream",
     "text": [
      "\u001b[32m[I 2020-04-09 14:18:57,273]\u001b[0m Finished trial#45 with value: 0.00010677549939799985 with parameters: {'x': 1.9896667769114376}. Best is trial#45 with value: 0.00010677549939799985.\u001b[0m\n",
      "\u001b[32m[I 2020-04-09 14:18:57,313]\u001b[0m Finished trial#46 with value: 10.151073572582202 with parameters: {'x': -1.1860749477346264}. Best is trial#45 with value: 0.00010677549939799985.\u001b[0m\n",
      "\u001b[32m[I 2020-04-09 14:18:57,355]\u001b[0m Finished trial#47 with value: 0.24320037606201103 with parameters: {'x': 1.5068464984794177}. Best is trial#45 with value: 0.00010677549939799985.\u001b[0m\n",
      "\u001b[32m[I 2020-04-09 14:18:57,395]\u001b[0m Finished trial#48 with value: 13.154539031274842 with parameters: {'x': 5.626918668963345}. Best is trial#45 with value: 0.00010677549939799985.\u001b[0m\n",
      "\u001b[32m[I 2020-04-09 14:18:57,436]\u001b[0m Finished trial#49 with value: 3.041114882857608 with parameters: {'x': 3.743879262694986}. Best is trial#45 with value: 0.00010677549939799985.\u001b[0m\n",
      "\u001b[32m[I 2020-04-09 14:18:57,478]\u001b[0m Finished trial#50 with value: 1.511739545431631 with parameters: {'x': 0.770471819992876}. Best is trial#45 with value: 0.00010677549939799985.\u001b[0m\n",
      "\u001b[32m[I 2020-04-09 14:18:57,524]\u001b[0m Finished trial#51 with value: 0.021763600136614217 with parameters: {'x': 2.1475249136133088}. Best is trial#45 with value: 0.00010677549939799985.\u001b[0m\n",
      "\u001b[32m[I 2020-04-09 14:18:57,568]\u001b[0m Finished trial#52 with value: 0.0031131199743649157 with parameters: {'x': 1.9442046599224907}. Best is trial#45 with value: 0.00010677549939799985.\u001b[0m\n",
      "\u001b[32m[I 2020-04-09 14:18:57,612]\u001b[0m Finished trial#53 with value: 0.7795292769343906 with parameters: {'x': 2.882909551955573}. Best is trial#45 with value: 0.00010677549939799985.\u001b[0m\n",
      "\u001b[32m[I 2020-04-09 14:18:57,658]\u001b[0m Finished trial#54 with value: 6.3143665710772146 with parameters: {'x': -0.5128403393525054}. Best is trial#45 with value: 0.00010677549939799985.\u001b[0m\n",
      "\u001b[32m[I 2020-04-09 14:18:57,705]\u001b[0m Finished trial#55 with value: 0.029566614263718236 with parameters: {'x': 1.8280505473584803}. Best is trial#45 with value: 0.00010677549939799985.\u001b[0m\n",
      "\u001b[32m[I 2020-04-09 14:18:57,748]\u001b[0m Finished trial#56 with value: 5.53302610565068 with parameters: {'x': 4.352238530772481}. Best is trial#45 with value: 0.00010677549939799985.\u001b[0m\n",
      "\u001b[32m[I 2020-04-09 14:18:57,790]\u001b[0m Finished trial#57 with value: 2.319615050707155 with parameters: {'x': 0.47697174986569757}. Best is trial#45 with value: 0.00010677549939799985.\u001b[0m\n",
      "\u001b[32m[I 2020-04-09 14:18:57,836]\u001b[0m Finished trial#58 with value: 16.93617622255615 with parameters: {'x': -2.1153585776401247}. Best is trial#45 with value: 0.00010677549939799985.\u001b[0m\n",
      "\u001b[32m[I 2020-04-09 14:18:57,883]\u001b[0m Finished trial#59 with value: 1.0946504798094174 with parameters: {'x': 3.0462554562865694}. Best is trial#45 with value: 0.00010677549939799985.\u001b[0m\n",
      "\u001b[32m[I 2020-04-09 14:18:57,933]\u001b[0m Finished trial#60 with value: 0.04731215011175971 with parameters: {'x': 1.7824864369475786}. Best is trial#45 with value: 0.00010677549939799985.\u001b[0m\n",
      "\u001b[32m[I 2020-04-09 14:18:57,981]\u001b[0m Finished trial#61 with value: 0.006508311961363551 with parameters: {'x': 1.919325890390017}. Best is trial#45 with value: 0.00010677549939799985.\u001b[0m\n",
      "\u001b[32m[I 2020-04-09 14:18:58,028]\u001b[0m Finished trial#62 with value: 0.6372169474028314 with parameters: {'x': 1.2017413029582256}. Best is trial#45 with value: 0.00010677549939799985.\u001b[0m\n",
      "\u001b[32m[I 2020-04-09 14:18:58,074]\u001b[0m Finished trial#63 with value: 4.438931270297769 with parameters: {'x': -0.1068771369725785}. Best is trial#45 with value: 0.00010677549939799985.\u001b[0m\n",
      "\u001b[32m[I 2020-04-09 14:18:58,119]\u001b[0m Finished trial#64 with value: 0.4357300501562792 with parameters: {'x': 2.6600985154931642}. Best is trial#45 with value: 0.00010677549939799985.\u001b[0m\n",
      "\u001b[32m[I 2020-04-09 14:18:58,166]\u001b[0m Finished trial#65 with value: 9.319294369007244 with parameters: {'x': 5.052751933748834}. Best is trial#45 with value: 0.00010677549939799985.\u001b[0m\n",
      "\u001b[32m[I 2020-04-09 14:18:58,215]\u001b[0m Finished trial#66 with value: 2.8711075110053796 with parameters: {'x': 3.6944342746195202}. Best is trial#45 with value: 0.00010677549939799985.\u001b[0m\n",
      "\u001b[32m[I 2020-04-09 14:18:58,263]\u001b[0m Finished trial#67 with value: 0.3325969039812991 with parameters: {'x': 2.5767121500205272}. Best is trial#45 with value: 0.00010677549939799985.\u001b[0m\n",
      "\u001b[32m[I 2020-04-09 14:18:58,308]\u001b[0m Finished trial#68 with value: 1.4106229749037709 with parameters: {'x': 0.8123035005087491}. Best is trial#45 with value: 0.00010677549939799985.\u001b[0m\n",
      "\u001b[32m[I 2020-04-09 14:18:58,356]\u001b[0m Finished trial#69 with value: 0.00011207596586415501 with parameters: {'x': 1.989413406314392}. Best is trial#45 with value: 0.00010677549939799985.\u001b[0m\n",
      "\u001b[32m[I 2020-04-09 14:18:58,404]\u001b[0m Finished trial#70 with value: 4.602072778710119 with parameters: {'x': 4.145244223558269}. Best is trial#45 with value: 0.00010677549939799985.\u001b[0m\n",
      "\u001b[32m[I 2020-04-09 14:18:58,451]\u001b[0m Finished trial#71 with value: 0.015545797768486727 with parameters: {'x': 1.875317211418389}. Best is trial#45 with value: 0.00010677549939799985.\u001b[0m\n",
      "\u001b[32m[I 2020-04-09 14:18:58,500]\u001b[0m Finished trial#72 with value: 0.002904882447235228 with parameters: {'x': 2.053896961391485}. Best is trial#45 with value: 0.00010677549939799985.\u001b[0m\n",
      "\u001b[32m[I 2020-04-09 14:18:58,547]\u001b[0m Finished trial#73 with value: 1.7911871467991707 with parameters: {'x': 3.338352400079729}. Best is trial#45 with value: 0.00010677549939799985.\u001b[0m\n",
      "\u001b[32m[I 2020-04-09 14:18:58,594]\u001b[0m Finished trial#74 with value: 0.839360603716128 with parameters: {'x': 1.0838337466834265}. Best is trial#45 with value: 0.00010677549939799985.\u001b[0m\n",
      "\u001b[32m[I 2020-04-09 14:18:58,642]\u001b[0m Finished trial#75 with value: 6.878008406016903 with parameters: {'x': -0.6225957381984939}. Best is trial#45 with value: 0.00010677549939799985.\u001b[0m\n",
      "\u001b[32m[I 2020-04-09 14:18:58,690]\u001b[0m Finished trial#76 with value: 2.878254406897552 with parameters: {'x': 0.3034581034063579}. Best is trial#45 with value: 0.00010677549939799985.\u001b[0m\n",
      "\u001b[32m[I 2020-04-09 14:18:58,740]\u001b[0m Finished trial#77 with value: 7.738038398513586 with parameters: {'x': 4.781732984762122}. Best is trial#45 with value: 0.00010677549939799985.\u001b[0m\n",
      "\u001b[32m[I 2020-04-09 14:18:58,785]\u001b[0m Finished trial#78 with value: 0.6589955200072699 with parameters: {'x': 2.8117853903632843}. Best is trial#45 with value: 0.00010677549939799985.\u001b[0m\n",
      "\u001b[32m[I 2020-04-09 14:18:58,835]\u001b[0m Finished trial#79 with value: 0.3686460313104756 with parameters: {'x': 1.3928377224246589}. Best is trial#45 with value: 0.00010677549939799985.\u001b[0m\n",
      "\u001b[32m[I 2020-04-09 14:18:58,885]\u001b[0m Finished trial#80 with value: 0.0025409279249135673 with parameters: {'x': 2.050407617727022}. Best is trial#45 with value: 0.00010677549939799985.\u001b[0m\n",
      "\u001b[32m[I 2020-04-09 14:18:58,931]\u001b[0m Finished trial#81 with value: 0.0003580095379354857 with parameters: {'x': 2.018921139974523}. Best is trial#45 with value: 0.00010677549939799985.\u001b[0m\n",
      "\u001b[32m[I 2020-04-09 14:18:58,980]\u001b[0m Finished trial#82 with value: 0.016262198015688827 with parameters: {'x': 2.1275233234184587}. Best is trial#45 with value: 0.00010677549939799985.\u001b[0m\n",
      "\u001b[32m[I 2020-04-09 14:18:59,022]\u001b[0m Finished trial#83 with value: 1.3828203694917314 with parameters: {'x': 3.1759338287045455}. Best is trial#45 with value: 0.00010677549939799985.\u001b[0m\n",
      "\u001b[32m[I 2020-04-09 14:18:59,069]\u001b[0m Finished trial#84 with value: 3.6748754338864993 with parameters: {'x': 3.9169964616259727}. Best is trial#45 with value: 0.00010677549939799985.\u001b[0m\n",
      "\u001b[32m[I 2020-04-09 14:18:59,117]\u001b[0m Finished trial#85 with value: 1.3012659333564 with parameters: {'x': 0.8592695614842216}. Best is trial#45 with value: 0.00010677549939799985.\u001b[0m\n",
      "\u001b[32m[I 2020-04-09 14:18:59,168]\u001b[0m Finished trial#86 with value: 128.51836945501597 with parameters: {'x': -9.336594261726754}. Best is trial#45 with value: 0.00010677549939799985.\u001b[0m\n",
      "\u001b[32m[I 2020-04-09 14:18:59,219]\u001b[0m Finished trial#87 with value: 0.2227496119624483 with parameters: {'x': 2.4719635705882905}. Best is trial#45 with value: 0.00010677549939799985.\u001b[0m\n",
      "\u001b[32m[I 2020-04-09 14:18:59,267]\u001b[0m Finished trial#88 with value: 3.886300534499714 with parameters: {'x': 0.02862978248637571}. Best is trial#45 with value: 0.00010677549939799985.\u001b[0m\n"
     ]
    },
    {
     "name": "stderr",
     "output_type": "stream",
     "text": [
      "\u001b[32m[I 2020-04-09 14:18:59,315]\u001b[0m Finished trial#89 with value: 0.307649306063884 with parameters: {'x': 1.4453385662731868}. Best is trial#45 with value: 0.00010677549939799985.\u001b[0m\n",
      "\u001b[32m[I 2020-04-09 14:18:59,360]\u001b[0m Finished trial#90 with value: 2.436271677551313 with parameters: {'x': 0.43914392798332846}. Best is trial#45 with value: 0.00010677549939799985.\u001b[0m\n",
      "\u001b[32m[I 2020-04-09 14:18:59,404]\u001b[0m Finished trial#91 with value: 0.010652716803280862 with parameters: {'x': 1.8967880006816995}. Best is trial#45 with value: 0.00010677549939799985.\u001b[0m\n",
      "\u001b[32m[I 2020-04-09 14:18:59,449]\u001b[0m Finished trial#92 with value: 0.0436329547699445 with parameters: {'x': 2.2088850276346883}. Best is trial#45 with value: 0.00010677549939799985.\u001b[0m\n",
      "\u001b[32m[I 2020-04-09 14:18:59,497]\u001b[0m Finished trial#93 with value: 0.7227473614269868 with parameters: {'x': 2.8501454942696496}. Best is trial#45 with value: 0.00010677549939799985.\u001b[0m\n",
      "\u001b[32m[I 2020-04-09 14:18:59,548]\u001b[0m Finished trial#94 with value: 0.07947804076563847 with parameters: {'x': 1.7180814997811629}. Best is trial#45 with value: 0.00010677549939799985.\u001b[0m\n",
      "\u001b[32m[I 2020-04-09 14:18:59,593]\u001b[0m Finished trial#95 with value: 1.9442246324473764 with parameters: {'x': 3.3943545576528864}. Best is trial#45 with value: 0.00010677549939799985.\u001b[0m\n",
      "\u001b[32m[I 2020-04-09 14:18:59,643]\u001b[0m Finished trial#96 with value: 0.5811227791438136 with parameters: {'x': 1.2376859051914273}. Best is trial#45 with value: 0.00010677549939799985.\u001b[0m\n",
      "\u001b[32m[I 2020-04-09 14:18:59,689]\u001b[0m Finished trial#97 with value: 12.225606878404147 with parameters: {'x': -1.49651353184914}. Best is trial#45 with value: 0.00010677549939799985.\u001b[0m\n",
      "\u001b[32m[I 2020-04-09 14:18:59,735]\u001b[0m Finished trial#98 with value: 0.04635787581195129 with parameters: {'x': 2.215308791766503}. Best is trial#45 with value: 0.00010677549939799985.\u001b[0m\n",
      "\u001b[32m[I 2020-04-09 14:18:59,777]\u001b[0m Finished trial#99 with value: 1.4101220077788412 with parameters: {'x': 0.8125144178648562}. Best is trial#45 with value: 0.00010677549939799985.\u001b[0m\n"
     ]
    },
    {
     "data": {
      "text/plain": [
       "{'x': 1.9896667769114376}"
      ]
     },
     "execution_count": 3,
     "metadata": {},
     "output_type": "execute_result"
    }
   ],
   "source": [
    "import optuna\n",
    "\n",
    "def objective(trial):\n",
    "    x = trial.suggest_uniform('x', -10, 10)\n",
    "    return (x - 2) ** 2\n",
    "\n",
    "study = optuna.create_study()\n",
    "study.optimize(objective, n_trials=100)\n",
    "\n",
    "study.best_params  # E.g. {'x': 2.002108042}"
   ]
  },
  {
   "cell_type": "code",
   "execution_count": null,
   "metadata": {},
   "outputs": [],
   "source": []
  }
 ],
 "metadata": {
  "kernelspec": {
   "display_name": "Python 3",
   "language": "python",
   "name": "python3"
  },
  "language_info": {
   "codemirror_mode": {
    "name": "ipython",
    "version": 3
   },
   "file_extension": ".py",
   "mimetype": "text/x-python",
   "name": "python",
   "nbconvert_exporter": "python",
   "pygments_lexer": "ipython3",
   "version": "3.8.2"
  }
 },
 "nbformat": 4,
 "nbformat_minor": 4
}
