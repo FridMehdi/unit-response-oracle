{
 "cells": [
  {
   "cell_type": "code",
   "execution_count": 5,
   "metadata": {},
   "outputs": [],
   "source": [
    "import pandas as pd\n",
    "import numpy as np\n",
    "from sklearn.preprocessing import PolynomialFeatures\n",
    "from sklearn.linear_model import LinearRegression"
   ]
  },
  {
   "cell_type": "code",
   "execution_count": 6,
   "metadata": {},
   "outputs": [],
   "source": [
    "# Data reading\n",
    "x_train = pd.read_csv('../../data/raw/x_train.csv', sep=',')\n",
    "y_train = pd.read_csv('../../data/raw/y_train.csv', sep=',')\n",
    "x_test = pd.read_csv('../../data/raw/x_test.csv', sep=',')"
   ]
  },
  {
   "cell_type": "code",
   "execution_count": 9,
   "metadata": {},
   "outputs": [],
   "source": [
    "x_train_transit = x_train[['OSRM estimated distance','intervention on public roads','floor']]\n",
    "y_train_transit = y_train[['delta departure-presentation']]\n",
    "x_test_transit = x_test[['OSRM estimated distance','intervention on public roads','floor']]\n",
    "\n",
    "# Create a predictive model for the 'delta departure-presentation'\n",
    "# based on 'OSRM estimated distance', 'intervention on public roads' and 'floor'\n",
    "polynomial_features= PolynomialFeatures(degree=3)\n",
    "x_train_transit_poly = polynomial_features.fit_transform(x_train_transit)\n",
    "model = LinearRegression()\n",
    "model.fit(x_train_transit_poly, y_train_transit)\n",
    "\n",
    "# Prediction of the 'delta selection-presentation'\n",
    "x_test_transit_poly = polynomial_features.fit_transform(x_test_transit)\n",
    "y_selection_presentation_predicted = y_train['delta selection-departure'].median() + model.predict(x_test_transit_poly)\n",
    "\n",
    "# Create a submission file\n",
    "submission = pd.concat([pd.DataFrame(x_test[['emergency vehicle selection']].values),\n",
    "           pd.DataFrame(np.full((len(x_test), 1), y_train['delta selection-departure'].median())),\n",
    "           pd.DataFrame(model.predict(x_test_transit_poly)),\n",
    "           pd.DataFrame(y_selection_presentation_predicted)],\n",
    "           axis=1)\n",
    "\n",
    "submission.columns = list(y_train.columns.values)\n",
    "\n",
    "submission.set_index('emergency vehicle selection', inplace=True)\n",
    "\n",
    "# submission.to_csv('./submission.csv', sep=\",\")\n",
    "\n",
    "#### Evaluation function ####\n",
    "# from sklearn.metrics import r2_score\n",
    "# \n",
    "# r2_score(observed_values,predited_values)\n",
    "#############################"
   ]
  },
  {
   "cell_type": "code",
   "execution_count": null,
   "metadata": {},
   "outputs": [],
   "source": []
  }
 ],
 "metadata": {
  "kernelspec": {
   "display_name": "Python 3",
   "language": "python",
   "name": "python3"
  },
  "language_info": {
   "codemirror_mode": {
    "name": "ipython",
    "version": 3
   },
   "file_extension": ".py",
   "mimetype": "text/x-python",
   "name": "python",
   "nbconvert_exporter": "python",
   "pygments_lexer": "ipython3",
   "version": "3.8.2"
  }
 },
 "nbformat": 4,
 "nbformat_minor": 4
}
